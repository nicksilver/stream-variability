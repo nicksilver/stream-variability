{
 "cells": [
  {
   "cell_type": "markdown",
   "metadata": {},
   "source": [
    "## Import libraries and set seed"
   ]
  },
  {
   "cell_type": "code",
   "execution_count": 27,
   "metadata": {},
   "outputs": [],
   "source": [
    "import numpy as np\n",
    "import seaborn as sns\n",
    "import pandas as pd\n",
    "import matplotlib.pyplot as plt\n",
    "import ipywidgets as widgets\n",
    "from ipywidgets import interact, interact_manual, fixed\n",
    "np.random.seed(12)"
   ]
  },
  {
   "cell_type": "markdown",
   "metadata": {},
   "source": [
    "## Description\n",
    "\n",
    "This notebook explores the effects of aridity on the distribution of streamflow.  "
   ]
  },
  {
   "cell_type": "code",
   "execution_count": 4,
   "metadata": {},
   "outputs": [
    {
     "data": {
      "application/vnd.jupyter.widget-view+json": {
       "model_id": "ae44da4341b241349d6f0fe9094a18a2",
       "version_major": 2,
       "version_minor": 0
      },
      "text/plain": [
       "FloatSlider(value=2.6, max=5.0, min=1.0)"
      ]
     },
     "metadata": {},
     "output_type": "display_data"
    }
   ],
   "source": [
    "w = widgets.FloatSlider(\n",
    "    value=2.6,\n",
    "    min=1,\n",
    "    max=5\n",
    ")\n",
    "w."
   ]
  },
  {
   "cell_type": "markdown",
   "metadata": {},
   "source": [
    "## Set constants"
   ]
  },
  {
   "cell_type": "code",
   "execution_count": 15,
   "metadata": {},
   "outputs": [],
   "source": [
    "n = 1000\n",
    "pet_p_1 = 0.5\n",
    "pet_p_2 = 2.0\n",
    "noise = 0.2\n",
    "w = 2.6"
   ]
  },
  {
   "cell_type": "markdown",
   "metadata": {},
   "source": [
    "## Build functions"
   ]
  },
  {
   "cell_type": "code",
   "execution_count": 18,
   "metadata": {},
   "outputs": [],
   "source": [
    "def qp_data_generator(n, pet_p, noise, w):\n",
    "    pet_p_n = pet_p + noise * np.random.randn(n)\n",
    "    pet_p_n[pet_p_n < 0] = 0\n",
    "    aet_p = (1 + (pet_p_n) - ((1 + (pet_p_n)**w)**(1/w)))\n",
    "    q_p = 1-aet_p\n",
    "    q_p[q_p < 0] = 0\n",
    "    return q_p\n",
    "\n",
    "def qp_plot(n, pet_p_1, pet_p_2, noise, w):\n",
    "    q_p_1 = qp_data_generator(n, pet_p_1, noise, w)\n",
    "    q_p_2 = qp_data_generator(n, pet_p_2, noise, w)\n",
    "    plt.figure(figsize=(5, 3), dpi=100)\n",
    "    sns.kdeplot(q_p_1, color=\"dodgerblue\", label=\"Low Aridity\", shade=True)\n",
    "    sns.kdeplot(q_p_2, color=\"deeppink\", label=\"High Aridity\", shade=True)\n",
    "    plt.title(\"Density Plot of Q/P\")\n",
    "    plt.xlabel(\"Q/P\")\n",
    "    plt.legend()"
   ]
  },
  {
   "cell_type": "markdown",
   "metadata": {},
   "source": [
    "## Setup widgets"
   ]
  },
  {
   "cell_type": "code",
   "execution_count": 39,
   "metadata": {},
   "outputs": [],
   "source": [
    "w = widgets.FloatSlider(\n",
    "    value=2.6,\n",
    "    min=1.01,\n",
    "    max=5\n",
    ")\n",
    "\n",
    "p1 = widgets.FloatSlider(\n",
    "    value=0.5,\n",
    "    min=0,\n",
    "    max=5\n",
    ")\n",
    "\n",
    "p2 = widgets.FloatSlider(\n",
    "    value=2.0,\n",
    "    min=0,\n",
    "    max=5\n",
    ")\n",
    "\n",
    "noise = widgets.FloatSlider(\n",
    "    value=0.2,\n",
    "    min=0,\n",
    "    max=2\n",
    ")"
   ]
  },
  {
   "cell_type": "markdown",
   "metadata": {},
   "source": [
    "## Plot"
   ]
  },
  {
   "cell_type": "code",
   "execution_count": 44,
   "metadata": {},
   "outputs": [
    {
     "data": {
      "application/vnd.jupyter.widget-view+json": {
       "model_id": "c27788d09ca94f98b81b0964e7ca2fb6",
       "version_major": 2,
       "version_minor": 0
      },
      "text/plain": [
       "interactive(children=(FloatSlider(value=1.31, description='w', max=5.0, min=1.01), Output()), _dom_classes=('w…"
      ]
     },
     "metadata": {},
     "output_type": "display_data"
    }
   ],
   "source": [
    "@interact\n",
    "def qp_plot(n=fixed(1000), pet_p_1=fixed(0.5), pet_p_2=fixed(2.0), noise=fixed(0.2), w=w):\n",
    "    q_p_1 = qp_data_generator(n, pet_p_1, noise, w)\n",
    "    q_p_2 = qp_data_generator(n, pet_p_2, noise, w)\n",
    "    plt.figure(figsize=(5, 3), dpi=100)\n",
    "    sns.kdeplot(q_p_1, color=\"dodgerblue\", label=\"Low Aridity\", shade=True)\n",
    "    sns.kdeplot(q_p_2, color=\"deeppink\", label=\"High Aridity\", shade=True)\n",
    "    plt.title(\"Density Plot of Q/P\")\n",
    "    plt.xlabel(\"Q/P\")\n",
    "    plt.legend()"
   ]
  },
  {
   "cell_type": "code",
   "execution_count": null,
   "metadata": {},
   "outputs": [],
   "source": []
  }
 ],
 "metadata": {
  "file_extension": ".py",
  "kernelspec": {
   "display_name": "Python 3.7.3 64-bit ('venv3': venv)",
   "language": "python",
   "name": "python37364bitvenv3venv7fb1eac355b9413b8577221280189a19"
  },
  "language_info": {
   "codemirror_mode": {
    "name": "ipython",
    "version": 3
   },
   "file_extension": ".py",
   "mimetype": "text/x-python",
   "name": "python",
   "nbconvert_exporter": "python",
   "pygments_lexer": "ipython3",
   "version": "3.7.3"
  },
  "mimetype": "text/x-python",
  "name": "python",
  "npconvert_exporter": "python",
  "pygments_lexer": "ipython3",
  "version": 3
 },
 "nbformat": 4,
 "nbformat_minor": 4
}
